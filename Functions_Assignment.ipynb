{
  "nbformat": 4,
  "nbformat_minor": 0,
  "metadata": {
    "colab": {
      "provenance": []
    },
    "kernelspec": {
      "name": "python3",
      "display_name": "Python 3"
    },
    "language_info": {
      "name": "python"
    }
  },
  "cells": [
    {
      "cell_type": "markdown",
      "source": [
        "# **THEORY** **QUESTIONS**"
      ],
      "metadata": {
        "id": "7kU9lEDuLkPR"
      }
    },
    {
      "cell_type": "markdown",
      "source": [
        "Q1 What is the difference between a function and a method in Python?\n",
        "\n",
        "Ans- A function is a block of reusable code that performs a specific task. It is not tied to any object and is defined using the def keyword.\n",
        "\n",
        "A method is a function associated with an object, typically called using the object’s reference."
      ],
      "metadata": {
        "id": "7HMUev_aLruH"
      }
    },
    {
      "cell_type": "code",
      "source": [
        "#function\n",
        "def square(x):\n",
        "  return x**2\n",
        "square(2)"
      ],
      "metadata": {
        "colab": {
          "base_uri": "https://localhost:8080/"
        },
        "id": "83tQPfOjNvFe",
        "outputId": "29533a49-f15f-4967-c2d9-93909bd67c4d"
      },
      "execution_count": null,
      "outputs": [
        {
          "output_type": "execute_result",
          "data": {
            "text/plain": [
              "4"
            ]
          },
          "metadata": {},
          "execution_count": 8
        }
      ]
    },
    {
      "cell_type": "code",
      "source": [
        "#method\n",
        "class Calculator:\n",
        "    def square(self, num):  # Method\n",
        "        return num * num"
      ],
      "metadata": {
        "id": "xGyboDI8Ov5G"
      },
      "execution_count": null,
      "outputs": []
    },
    {
      "cell_type": "code",
      "source": [
        "square(4)"
      ],
      "metadata": {
        "colab": {
          "base_uri": "https://localhost:8080/"
        },
        "id": "7gNsdWIhN-ry",
        "outputId": "1bc4159a-1cba-49cc-bac6-e5de69d091b8"
      },
      "execution_count": null,
      "outputs": [
        {
          "output_type": "execute_result",
          "data": {
            "text/plain": [
              "16"
            ]
          },
          "metadata": {},
          "execution_count": 5
        }
      ]
    },
    {
      "cell_type": "markdown",
      "source": [
        "Q2 - Explain the concept of function arguments and parameters in Python.\n",
        "\n",
        "Ans -  Parameters are placeholders for the values that a function can accept when it is defined.\n",
        "\n",
        "Arguments are the actual values passed to a function when it is called."
      ],
      "metadata": {
        "id": "q2QfPe-WP6jA"
      }
    },
    {
      "cell_type": "code",
      "source": [
        "def sum(a,b):\n",
        "  return a+b   #here a and b are parameters"
      ],
      "metadata": {
        "id": "AkKc_frmQlwB"
      },
      "execution_count": null,
      "outputs": []
    },
    {
      "cell_type": "code",
      "source": [
        "sum(3,5)     #here 3 and 5 are the arguemets"
      ],
      "metadata": {
        "colab": {
          "base_uri": "https://localhost:8080/"
        },
        "id": "0opMr5GMQxFa",
        "outputId": "20eb9cbc-8101-4e25-9131-817d77dea5ae"
      },
      "execution_count": null,
      "outputs": [
        {
          "output_type": "execute_result",
          "data": {
            "text/plain": [
              "8"
            ]
          },
          "metadata": {},
          "execution_count": 11
        }
      ]
    },
    {
      "cell_type": "markdown",
      "source": [
        "Q3 - What are the different ways to define and call a function in Python?\n",
        "\n",
        "Ans - we can define functions using def or lambda.\n",
        "\n",
        "Functions can be called with or without arguments."
      ],
      "metadata": {
        "id": "G3GECsLPRDfn"
      }
    },
    {
      "cell_type": "code",
      "source": [
        "# Using def\n",
        "def square(x):\n",
        "    return x * x\n",
        "\n",
        "# Using lambda\n",
        "square_lambda = lambda x: x * x\n",
        "\n",
        "print(square(4))\n",
        "print(square_lambda(4))"
      ],
      "metadata": {
        "id": "NTxxGbrhRUQP"
      },
      "execution_count": null,
      "outputs": []
    },
    {
      "cell_type": "markdown",
      "source": [
        "Q4 - What is the purpose of the return statement in a Python function?\n",
        "\n",
        "Ans- The return statement is used to send the result of a function back to the caller."
      ],
      "metadata": {
        "id": "BVIm-ZSHRdJv"
      }
    },
    {
      "cell_type": "code",
      "source": [
        "def product(a,b):\n",
        "  return a*b"
      ],
      "metadata": {
        "id": "qK8he8_mSDLF"
      },
      "execution_count": null,
      "outputs": []
    },
    {
      "cell_type": "markdown",
      "source": [
        "Q5-What are iterators in Python and how do they differ from iterables?\n",
        "\n",
        "Ans- An iterable is an object capable of returning its elements one at a time, such as a list or tuple.\n",
        "\n",
        "An iterator is an object that represents a stream of data. It is created using the iter() function on an iterable and generates elements one at a time using next()."
      ],
      "metadata": {
        "id": "AWTgVAumSQVO"
      }
    },
    {
      "cell_type": "code",
      "source": [
        "list1 = [1,2,3,4]  #iterable\n",
        "a=iter(list1)      #iterator\n",
        "next(a)"
      ],
      "metadata": {
        "colab": {
          "base_uri": "https://localhost:8080/"
        },
        "id": "oDPRHA0yTWsY",
        "outputId": "4153367a-40bd-4480-c011-d92bd8b2e814"
      },
      "execution_count": null,
      "outputs": [
        {
          "output_type": "execute_result",
          "data": {
            "text/plain": [
              "1"
            ]
          },
          "metadata": {},
          "execution_count": 44
        }
      ]
    },
    {
      "cell_type": "markdown",
      "source": [
        "Q6 - Explain the concept of generators in Python and how they are defined.\n",
        "\n",
        "Ans- Generators are special functions that yield values one at a time using the yield keyword. They allow you to iterate over data without storing the entire dataset in memory."
      ],
      "metadata": {
        "id": "rvn5YkmkT-3i"
      }
    },
    {
      "cell_type": "code",
      "source": [
        "def countdown(n):\n",
        "    while n > 0:\n",
        "        yield n\n",
        "        n -= 1"
      ],
      "metadata": {
        "id": "jwCshMGhO3iR"
      },
      "execution_count": null,
      "outputs": []
    },
    {
      "cell_type": "code",
      "source": [
        "a=countdown(5)"
      ],
      "metadata": {
        "id": "2nTdAchSVoSm"
      },
      "execution_count": null,
      "outputs": []
    },
    {
      "cell_type": "code",
      "source": [
        "next(a)"
      ],
      "metadata": {
        "colab": {
          "base_uri": "https://localhost:8080/"
        },
        "id": "FoUoNVPgV4Ru",
        "outputId": "a32ad56f-ff04-4b36-e790-c516dcfff77e"
      },
      "execution_count": null,
      "outputs": [
        {
          "output_type": "execute_result",
          "data": {
            "text/plain": [
              "5"
            ]
          },
          "metadata": {},
          "execution_count": 22
        }
      ]
    },
    {
      "cell_type": "code",
      "source": [
        "next(a)"
      ],
      "metadata": {
        "colab": {
          "base_uri": "https://localhost:8080/"
        },
        "id": "qGvkbqhKV9mS",
        "outputId": "47d38c44-4df4-45a5-9e4d-e894c5b26724"
      },
      "execution_count": null,
      "outputs": [
        {
          "output_type": "execute_result",
          "data": {
            "text/plain": [
              "4"
            ]
          },
          "metadata": {},
          "execution_count": 23
        }
      ]
    },
    {
      "cell_type": "markdown",
      "source": [
        "Q7 - What are the advantages of using generators over regular functions?\n",
        "\n",
        "Memory-efficient as they generate items on the fly.\n",
        "\n",
        "Suitable for handling large datasets or infinite sequences."
      ],
      "metadata": {
        "id": "orwW-or3WQch"
      }
    },
    {
      "cell_type": "markdown",
      "source": [
        "Q8- What is a lambda function in Python and when is it typically used?\n",
        "\n",
        "A lambda function is an anonymous, one-liner function defined using the lambda keyword.\n",
        "\n",
        "Used for short, simple operations where defining a full function would be overkill."
      ],
      "metadata": {
        "id": "i_4RRFZMWR5Z"
      }
    },
    {
      "cell_type": "code",
      "source": [
        "square = lambda x:x**2"
      ],
      "metadata": {
        "id": "bLAWp6IGWag5"
      },
      "execution_count": null,
      "outputs": []
    },
    {
      "cell_type": "code",
      "source": [
        "square(3)"
      ],
      "metadata": {
        "colab": {
          "base_uri": "https://localhost:8080/"
        },
        "id": "In4DJtMSWQNp",
        "outputId": "c2c7a38d-8570-4614-f1c4-4d13cb575168"
      },
      "execution_count": null,
      "outputs": [
        {
          "output_type": "execute_result",
          "data": {
            "text/plain": [
              "9"
            ]
          },
          "metadata": {},
          "execution_count": 27
        }
      ]
    },
    {
      "cell_type": "markdown",
      "source": [
        "Q9- Explain the purpose and usage of the map() function in Python.\n",
        "\n",
        "map() applies a given function to all the items in an iterable and returns a map object."
      ],
      "metadata": {
        "id": "dKwll2qRW5bz"
      }
    },
    {
      "cell_type": "code",
      "source": [
        "numbers = [1, 2, 3]\n",
        "squared = map(lambda x: x * x, numbers)\n",
        "print(list(squared))  # Output: [1, 4, 9]"
      ],
      "metadata": {
        "colab": {
          "base_uri": "https://localhost:8080/"
        },
        "id": "oax7kY9QczLz",
        "outputId": "a965ea05-4569-417e-e608-ba8a8241bbc8"
      },
      "execution_count": null,
      "outputs": [
        {
          "output_type": "stream",
          "name": "stdout",
          "text": [
            "[1, 4, 9]\n"
          ]
        }
      ]
    },
    {
      "cell_type": "markdown",
      "source": [
        "Q10- What is the difference between map(), reduce(), and filter() functions in Python?\n",
        "\n",
        "map(): Applies a function to every item in an iterable.\n",
        "\n",
        "filter(): Returns only the items that satisfy a given condition.\n",
        "\n",
        "reduce(): Aggregates items using a binary function (e.g., summation)."
      ],
      "metadata": {
        "id": "ssOOSWhxd8Xe"
      }
    },
    {
      "cell_type": "code",
      "source": [
        "#map\n",
        "l1=[1,2,3,4,5]\n",
        "sq = lambda x:x**2\n",
        "list(map(sq,l1))"
      ],
      "metadata": {
        "colab": {
          "base_uri": "https://localhost:8080/"
        },
        "id": "8Rn-rwFseG_U",
        "outputId": "15c229b6-1864-478c-8120-2f1b24fbdca3"
      },
      "execution_count": null,
      "outputs": [
        {
          "output_type": "execute_result",
          "data": {
            "text/plain": [
              "[1, 4, 9, 16, 25]"
            ]
          },
          "metadata": {},
          "execution_count": 50
        }
      ]
    },
    {
      "cell_type": "code",
      "source": [
        "#filter\n",
        "list(filter(lambda x: x%2==0,l1))"
      ],
      "metadata": {
        "colab": {
          "base_uri": "https://localhost:8080/"
        },
        "id": "us3IokyNeWs-",
        "outputId": "0d771762-c264-4599-955f-da4df15e511e"
      },
      "execution_count": null,
      "outputs": [
        {
          "output_type": "execute_result",
          "data": {
            "text/plain": [
              "[2, 4]"
            ]
          },
          "metadata": {},
          "execution_count": 51
        }
      ]
    },
    {
      "cell_type": "code",
      "source": [
        "from functools import reduce\n",
        "#reduce\n",
        "reduce(lambda x,y:x+y,l1)"
      ],
      "metadata": {
        "colab": {
          "base_uri": "https://localhost:8080/"
        },
        "id": "-96VZlBnmu6l",
        "outputId": "1f10c56a-6934-4299-bb3b-9e2c36162279"
      },
      "execution_count": null,
      "outputs": [
        {
          "output_type": "execute_result",
          "data": {
            "text/plain": [
              "15"
            ]
          },
          "metadata": {},
          "execution_count": 54
        }
      ]
    },
    {
      "cell_type": "markdown",
      "source": [
        "Q11 - Using pen & Paper write the internal mechanism for sum operation using  reduce function on this given list:[47,11,42,13]"
      ],
      "metadata": {
        "id": "twZ0WJ-6nQMv"
      }
    },
    {
      "cell_type": "markdown",
      "source": [
        "![photo_2024-12-22_00-42-37.jpg](data:image/jpeg;base64,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)"
      ],
      "metadata": {
        "id": "uJvRoSkyonIv"
      }
    },
    {
      "cell_type": "markdown",
      "source": [
        "# **Practical Questions**"
      ],
      "metadata": {
        "id": "a80Ku4auo5lw"
      }
    },
    {
      "cell_type": "markdown",
      "source": [
        "Q1 Write a Python function that takes a list of numbers as input and returns the sum of all even numbers in the list."
      ],
      "metadata": {
        "id": "jHHTKl78pHlZ"
      }
    },
    {
      "cell_type": "code",
      "source": [
        "numbers = [1,2,3,4,5,6,7,8]\n",
        "def sum_even(numbers):\n",
        "    return sum(x for x in numbers if x % 2 == 0)"
      ],
      "metadata": {
        "id": "SJZGA9HNpQe_"
      },
      "execution_count": 1,
      "outputs": []
    },
    {
      "cell_type": "code",
      "source": [
        "sum_even(numbers)"
      ],
      "metadata": {
        "id": "w0mrvhlJpYqb",
        "colab": {
          "base_uri": "https://localhost:8080/"
        },
        "outputId": "b5ef9dc5-aa30-485a-8cfc-6e64d2321d35"
      },
      "execution_count": 2,
      "outputs": [
        {
          "output_type": "execute_result",
          "data": {
            "text/plain": [
              "20"
            ]
          },
          "metadata": {},
          "execution_count": 2
        }
      ]
    },
    {
      "cell_type": "markdown",
      "source": [
        "Q2 - Create a Python function that accepts a string and returns the reverse of that string."
      ],
      "metadata": {
        "id": "r0D49hkfrEBP"
      }
    },
    {
      "cell_type": "code",
      "source": [
        "a=\"String\"\n",
        "def reverse(a):\n",
        "  return a[::-1]"
      ],
      "metadata": {
        "id": "60S7cbDLqp3-"
      },
      "execution_count": 7,
      "outputs": []
    },
    {
      "cell_type": "code",
      "source": [
        "reverse(a)"
      ],
      "metadata": {
        "colab": {
          "base_uri": "https://localhost:8080/",
          "height": 35
        },
        "id": "4suDy8tzrMDv",
        "outputId": "2eb1e71b-1601-483e-f19d-4966057089a1"
      },
      "execution_count": 8,
      "outputs": [
        {
          "output_type": "execute_result",
          "data": {
            "text/plain": [
              "'gnirtS'"
            ],
            "application/vnd.google.colaboratory.intrinsic+json": {
              "type": "string"
            }
          },
          "metadata": {},
          "execution_count": 8
        }
      ]
    },
    {
      "cell_type": "markdown",
      "source": [
        "Q3 - Implement a Python function that takes a list of integers and returns a new list containing the squares of each number."
      ],
      "metadata": {
        "id": "DqchMVZbr6P4"
      }
    },
    {
      "cell_type": "code",
      "source": [
        "l3 = [1,2,3,4]\n",
        "def square(l3):\n",
        "  l4=[]\n",
        "  for i in l3:\n",
        "    l4.append(i**2)\n",
        "  return l4"
      ],
      "metadata": {
        "id": "WSBpJRpSsElf"
      },
      "execution_count": 11,
      "outputs": []
    },
    {
      "cell_type": "code",
      "source": [
        "square(l3)"
      ],
      "metadata": {
        "colab": {
          "base_uri": "https://localhost:8080/"
        },
        "id": "1ce3kxCGr3PJ",
        "outputId": "139d32ff-bb5b-4f6b-c2b7-8ce7fb4da68e"
      },
      "execution_count": 12,
      "outputs": [
        {
          "output_type": "execute_result",
          "data": {
            "text/plain": [
              "[1, 4, 9, 16]"
            ]
          },
          "metadata": {},
          "execution_count": 12
        }
      ]
    },
    {
      "cell_type": "markdown",
      "source": [
        "Q4- Write a Python function that checks if a given number is prime or not from 1 to 200:"
      ],
      "metadata": {
        "id": "ZI9wFxJassgB"
      }
    },
    {
      "cell_type": "code",
      "source": [
        "def prime_check(num):\n",
        "  if num > 1:\n",
        "    for i in range(2,num):\n",
        "      if (num % i) == 0:\n",
        "        print(num,\"is not a prime number\")\n",
        "        break\n",
        "    else:\n",
        "      print(num,\"is a prime number\")"
      ],
      "metadata": {
        "id": "y6PXXz8bs7TB"
      },
      "execution_count": 19,
      "outputs": []
    },
    {
      "cell_type": "code",
      "source": [
        "prime_check(7)"
      ],
      "metadata": {
        "colab": {
          "base_uri": "https://localhost:8080/"
        },
        "id": "Z_l8dYmnsjXL",
        "outputId": "2347c0b2-2587-4fa5-b72e-bcf0eb57fda2"
      },
      "execution_count": 20,
      "outputs": [
        {
          "output_type": "stream",
          "name": "stdout",
          "text": [
            "7 is a prime number\n"
          ]
        }
      ]
    },
    {
      "cell_type": "markdown",
      "source": [
        "Q5- Create an iterator class in Python that generates the Fibonacci sequence up to a specified number of terms"
      ],
      "metadata": {
        "id": "uc39ZwzBurHZ"
      }
    },
    {
      "cell_type": "code",
      "source": [
        "def fib(n):\n",
        "  a=0\n",
        "  b=1\n",
        "  for i in range(n):\n",
        "    yield a\n",
        "    a,b=b,a+b"
      ],
      "metadata": {
        "id": "nqOx0EFRuuxZ"
      },
      "execution_count": 23,
      "outputs": []
    },
    {
      "cell_type": "code",
      "source": [
        "list(fib(10))"
      ],
      "metadata": {
        "colab": {
          "base_uri": "https://localhost:8080/"
        },
        "id": "053HsYCZvX2g",
        "outputId": "5d452630-4733-4593-97cf-8c8b4a1113af"
      },
      "execution_count": 25,
      "outputs": [
        {
          "output_type": "execute_result",
          "data": {
            "text/plain": [
              "[0, 1, 1, 2, 3, 5, 8, 13, 21, 34]"
            ]
          },
          "metadata": {},
          "execution_count": 25
        }
      ]
    },
    {
      "cell_type": "markdown",
      "source": [
        "Q6- Write a generator function in Python that yields the powers of 2 up to a given exponent."
      ],
      "metadata": {
        "id": "q4dTU3UTvnTA"
      }
    },
    {
      "cell_type": "code",
      "source": [
        "def power(n):\n",
        "  for i in range(n+1):\n",
        "    yield 2**i"
      ],
      "metadata": {
        "id": "PDswNuMavzmA"
      },
      "execution_count": 30,
      "outputs": []
    },
    {
      "cell_type": "code",
      "source": [
        "list(power(5))"
      ],
      "metadata": {
        "colab": {
          "base_uri": "https://localhost:8080/"
        },
        "id": "e2exCYrkt8YR",
        "outputId": "24dd50aa-10ce-4316-b1a5-033ab67541cc"
      },
      "execution_count": 31,
      "outputs": [
        {
          "output_type": "execute_result",
          "data": {
            "text/plain": [
              "[1, 2, 4, 8, 16, 32]"
            ]
          },
          "metadata": {},
          "execution_count": 31
        }
      ]
    },
    {
      "cell_type": "markdown",
      "source": [
        "Q7- Implement a generator function that reads a file line by line and yields each line as a string."
      ],
      "metadata": {
        "id": "OW-15s6fxeNJ"
      }
    },
    {
      "cell_type": "code",
      "source": [
        "def file_reader(filename):\n",
        "    with open(filename, 'r') as file:\n",
        "        for line in file:\n",
        "            yield line.strip()"
      ],
      "metadata": {
        "id": "okQ9tYk6xfAY"
      },
      "execution_count": 35,
      "outputs": []
    },
    {
      "cell_type": "markdown",
      "source": [
        "Q8- Use a lambda function in Python to sort a list of tuples based on the second element of each tuple."
      ],
      "metadata": {
        "id": "zT_a1GSMyFhU"
      }
    },
    {
      "cell_type": "code",
      "source": [
        "tuples = [(1, 'b'), (2, 'a'), (3, 'c')]\n",
        "sorted_tuples = sorted(tuples, key=lambda x: x[1])"
      ],
      "metadata": {
        "id": "CT254QcHxRHZ"
      },
      "execution_count": 42,
      "outputs": []
    },
    {
      "cell_type": "markdown",
      "source": [
        "Q9- Write a Python program that uses map() to convert a list of temperatures from Celsius to Fahrenheit."
      ],
      "metadata": {
        "id": "F153lZAt0L-S"
      }
    },
    {
      "cell_type": "code",
      "source": [
        "celsius = [0, 20, 40]\n",
        "fahrenheit = list(map(lambda c: (c * 9/5) + 32, celsius))"
      ],
      "metadata": {
        "id": "-uA2gXTj0dQK"
      },
      "execution_count": 44,
      "outputs": []
    },
    {
      "cell_type": "code",
      "source": [
        "fahrenheit"
      ],
      "metadata": {
        "colab": {
          "base_uri": "https://localhost:8080/"
        },
        "id": "uIok5CzZyrfK",
        "outputId": "f0c0d65b-9f54-47b9-be49-81d3d187396b"
      },
      "execution_count": 45,
      "outputs": [
        {
          "output_type": "execute_result",
          "data": {
            "text/plain": [
              "[32.0, 68.0, 104.0]"
            ]
          },
          "metadata": {},
          "execution_count": 45
        }
      ]
    },
    {
      "cell_type": "markdown",
      "source": [
        "Q10 - Create a Python program that uses filter() to remove all the vowels from a given string."
      ],
      "metadata": {
        "id": "sfquV_3T0nEL"
      }
    },
    {
      "cell_type": "code",
      "source": [
        "def remove_vowels(s):\n",
        "    return ''.join(filter(lambda x: x.lower() not in 'aeiou', s))"
      ],
      "metadata": {
        "id": "iq75w6cf0u2q"
      },
      "execution_count": 46,
      "outputs": []
    },
    {
      "cell_type": "code",
      "source": [
        "remove_vowels(\"ambulance\")"
      ],
      "metadata": {
        "colab": {
          "base_uri": "https://localhost:8080/",
          "height": 35
        },
        "id": "nCAuFO9a0mia",
        "outputId": "c88e20bd-c129-4c25-d15a-f9b19d6c93ee"
      },
      "execution_count": 49,
      "outputs": [
        {
          "output_type": "execute_result",
          "data": {
            "text/plain": [
              "'mblnc'"
            ],
            "application/vnd.google.colaboratory.intrinsic+json": {
              "type": "string"
            }
          },
          "metadata": {},
          "execution_count": 49
        }
      ]
    },
    {
      "cell_type": "markdown",
      "source": [
        "Q11 - Write a Python program, which returns a list with 2-tuples. Each tuple consists of the order number and the product of the price per item and the quantity. The product should be increased by 10,- € if the value of the order is smaller than 100,00 €. Write a Python program using lambda and map."
      ],
      "metadata": {
        "id": "knc0uMpr2T_g"
      }
    },
    {
      "cell_type": "code",
      "source": [
        "orders = [\n",
        "    [34587, 4, 40.95],\n",
        "    [98762, 1, 56.80],\n",
        "    [77226, 2, 32.95],\n",
        "    [88112, 3, 24.95]\n",
        "]\n",
        "\n",
        "result = list(map(lambda x: (x[0], x[1] * x[2] + (10 if x[1] * x[2] < 100 else 0)), orders))"
      ],
      "metadata": {
        "id": "U65oZGQp1elC"
      },
      "execution_count": 50,
      "outputs": []
    },
    {
      "cell_type": "code",
      "source": [
        "result"
      ],
      "metadata": {
        "colab": {
          "base_uri": "https://localhost:8080/"
        },
        "id": "PUxppci82X0K",
        "outputId": "23ffcffb-0d4c-4a9c-d11c-ee2b59f150de"
      },
      "execution_count": 51,
      "outputs": [
        {
          "output_type": "execute_result",
          "data": {
            "text/plain": [
              "[(34587, 163.8), (98762, 66.8), (77226, 75.9), (88112, 84.85)]"
            ]
          },
          "metadata": {},
          "execution_count": 51
        }
      ]
    },
    {
      "cell_type": "code",
      "source": [],
      "metadata": {
        "id": "TrWXz4zp2Z2n"
      },
      "execution_count": null,
      "outputs": []
    }
  ]
}